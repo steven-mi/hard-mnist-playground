{
 "cells": [
  {
   "cell_type": "code",
   "execution_count": 1,
   "metadata": {},
   "outputs": [
    {
     "name": "stderr",
     "output_type": "stream",
     "text": [
      "Using TensorFlow backend.\n"
     ]
    }
   ],
   "source": [
    "'''Trains a simple convnet on the MNIST dataset.\n",
    "\n",
    "Gets to 99.25% test accuracy after 12 epochs\n",
    "(there is still a lot of margin for parameter tuning).\n",
    "16 seconds per epoch on a GRID K520 GPU.\n",
    "'''\n",
    "from __future__ import print_function\n",
    "import keras\n",
    "from keras.datasets import mnist\n",
    "from keras.models import Sequential\n",
    "from keras.layers import Dense, Dropout, Flatten\n",
    "from keras.layers import Conv2D, MaxPooling2D\n",
    "from keras import backend as K\n",
    "from deep_teaching_commons.data.fundamentals.mnist import Mnist\n",
    "from data_loader import load_smnist"
   ]
  },
  {
   "cell_type": "code",
   "execution_count": 2,
   "metadata": {},
   "outputs": [],
   "source": [
    "num_classes = 10\n",
    "epochs = 10"
   ]
  },
  {
   "cell_type": "code",
   "execution_count": 3,
   "metadata": {},
   "outputs": [],
   "source": [
    "def init_model():\n",
    "    model = Sequential()\n",
    "    model.add(Conv2D(32, kernel_size=(3, 3),\n",
    "                     activation='relu',\n",
    "                     input_shape=(28, 28, 1)))\n",
    "    model.add(Conv2D(64, (3, 3), activation='relu'))\n",
    "    model.add(MaxPooling2D(pool_size=(2, 2)))\n",
    "    model.add(Dropout(0.25))\n",
    "    model.add(Flatten())\n",
    "    model.add(Dense(128, activation='relu'))\n",
    "    model.add(Dropout(0.5))\n",
    "    model.add(Dense(num_classes, activation='softmax'))\n",
    "    return model"
   ]
  },
  {
   "cell_type": "code",
   "execution_count": 4,
   "metadata": {},
   "outputs": [
    {
     "name": "stdout",
     "output_type": "stream",
     "text": [
      "auto download is active, attempting download\n",
      "mnist data directory already exists, download aborted\n",
      "auto download is active, attempting download\n",
      "mnist data directory already exists, download aborted\n",
      "(10, 28, 28, 1) (10, 10)\n",
      "(10000, 28, 28, 1) (10000, 10)\n",
      "Epoch 1/10\n",
      "10/10 [==============================] - 0s 28ms/step - loss: 2.3197 - acc: 0.0000e+00\n",
      "Epoch 2/10\n",
      "10/10 [==============================] - 0s 2ms/step - loss: 2.2058 - acc: 0.5000\n",
      "Epoch 3/10\n",
      "10/10 [==============================] - 0s 2ms/step - loss: 2.1066 - acc: 0.6000\n",
      "Epoch 4/10\n",
      "10/10 [==============================] - 0s 2ms/step - loss: 2.0533 - acc: 0.4000\n",
      "Epoch 5/10\n",
      "10/10 [==============================] - 0s 2ms/step - loss: 1.9870 - acc: 0.4000\n",
      "Epoch 6/10\n",
      "10/10 [==============================] - 0s 2ms/step - loss: 1.7042 - acc: 0.7000\n",
      "Epoch 7/10\n",
      "10/10 [==============================] - 0s 2ms/step - loss: 1.1431 - acc: 1.0000\n",
      "Epoch 8/10\n",
      "10/10 [==============================] - 0s 2ms/step - loss: 1.1460 - acc: 0.6000\n",
      "Epoch 9/10\n",
      "10/10 [==============================] - 0s 2ms/step - loss: 0.7331 - acc: 0.7000\n",
      "Epoch 10/10\n",
      "10/10 [==============================] - 0s 2ms/step - loss: 0.7061 - acc: 0.9000\n",
      "Test loss: 2.0782055488586426\n",
      "Test accuracy: 0.3997\n"
     ]
    }
   ],
   "source": [
    "model = init_model()\n",
    "x_train, y_train, x_test, y_test = load_smnist(n=1, one_hot_enc=True, flatten=False, normalized=True)\n",
    "x_train = x_train.reshape(-1, 28, 28, 1)\n",
    "x_test = x_test.reshape(-1, 28, 28, 1)\n",
    "print(x_train.shape, y_train.shape)\n",
    "print(x_test.shape, y_test.shape)\n",
    "\n",
    "model.compile(loss=keras.losses.categorical_crossentropy,\n",
    "              optimizer=keras.optimizers.Adadelta(),\n",
    "              metrics=['accuracy'])\n",
    "model.fit(x_train, y_train,\n",
    "          epochs=epochs,\n",
    "          verbose=1)\n",
    "score = model.evaluate(x_test, y_test, verbose=0)\n",
    "print('Test loss:', score[0])\n",
    "print('Test accuracy:', score[1])"
   ]
  },
  {
   "cell_type": "code",
   "execution_count": 5,
   "metadata": {},
   "outputs": [
    {
     "name": "stdout",
     "output_type": "stream",
     "text": [
      "auto download is active, attempting download\n",
      "mnist data directory already exists, download aborted\n",
      "auto download is active, attempting download\n",
      "mnist data directory already exists, download aborted\n",
      "(50, 28, 28, 1) (50, 10)\n",
      "(10000, 28, 28, 1) (10000, 10)\n",
      "Epoch 1/10\n",
      "50/50 [==============================] - 0s 8ms/step - loss: 2.3180 - acc: 0.0200\n",
      "Epoch 2/10\n",
      "50/50 [==============================] - 0s 1ms/step - loss: 2.2470 - acc: 0.1800\n",
      "Epoch 3/10\n",
      "50/50 [==============================] - 0s 1ms/step - loss: 1.9737 - acc: 0.5000\n",
      "Epoch 4/10\n",
      "50/50 [==============================] - 0s 1ms/step - loss: 1.9518 - acc: 0.3200\n",
      "Epoch 5/10\n",
      "50/50 [==============================] - 0s 1ms/step - loss: 1.5579 - acc: 0.5800\n",
      "Epoch 6/10\n",
      "50/50 [==============================] - 0s 1ms/step - loss: 1.5206 - acc: 0.5600\n",
      "Epoch 7/10\n",
      "50/50 [==============================] - 0s 1ms/step - loss: 1.0600 - acc: 0.7000\n",
      "Epoch 8/10\n",
      "50/50 [==============================] - 0s 1ms/step - loss: 1.3630 - acc: 0.5200\n",
      "Epoch 9/10\n",
      "50/50 [==============================] - 0s 1ms/step - loss: 0.7208 - acc: 0.8400\n",
      "Epoch 10/10\n",
      "50/50 [==============================] - 0s 1ms/step - loss: 0.5083 - acc: 0.8600\n",
      "Test loss: 1.2494665672302245\n",
      "Test accuracy: 0.5966\n"
     ]
    }
   ],
   "source": [
    "model = init_model()\n",
    "x_train, y_train, x_test, y_test = load_smnist(n=5, one_hot_enc=True, flatten=False, normalized=True)\n",
    "x_train = x_train.reshape(-1, 28, 28, 1)\n",
    "x_test = x_test.reshape(-1, 28, 28, 1)\n",
    "print(x_train.shape, y_train.shape)\n",
    "print(x_test.shape, y_test.shape)\n",
    "\n",
    "model.compile(loss=keras.losses.categorical_crossentropy,\n",
    "              optimizer=keras.optimizers.Adadelta(),\n",
    "              metrics=['accuracy'])\n",
    "model.fit(x_train, y_train,\n",
    "          epochs=epochs,\n",
    "          verbose=1)\n",
    "score = model.evaluate(x_test, y_test, verbose=0)\n",
    "print('Test loss:', score[0])\n",
    "print('Test accuracy:', score[1])"
   ]
  },
  {
   "cell_type": "code",
   "execution_count": 6,
   "metadata": {},
   "outputs": [
    {
     "name": "stdout",
     "output_type": "stream",
     "text": [
      "auto download is active, attempting download\n",
      "mnist data directory already exists, download aborted\n",
      "auto download is active, attempting download\n",
      "mnist data directory already exists, download aborted\n",
      "(100, 28, 28, 1) (100, 10)\n",
      "(10000, 28, 28, 1) (10000, 10)\n",
      "Epoch 1/10\n",
      "100/100 [==============================] - 0s 4ms/step - loss: 2.3038 - acc: 0.1300\n",
      "Epoch 2/10\n",
      "100/100 [==============================] - 0s 1ms/step - loss: 2.1647 - acc: 0.2800\n",
      "Epoch 3/10\n",
      "100/100 [==============================] - 0s 1ms/step - loss: 1.9250 - acc: 0.3600\n",
      "Epoch 4/10\n",
      "100/100 [==============================] - 0s 1ms/step - loss: 1.7720 - acc: 0.4000\n",
      "Epoch 5/10\n",
      "100/100 [==============================] - 0s 1ms/step - loss: 1.7102 - acc: 0.4600\n",
      "Epoch 6/10\n",
      "100/100 [==============================] - 0s 1ms/step - loss: 1.1245 - acc: 0.6200\n",
      "Epoch 7/10\n",
      "100/100 [==============================] - 0s 1ms/step - loss: 0.8551 - acc: 0.7300\n",
      "Epoch 8/10\n",
      "100/100 [==============================] - 0s 1ms/step - loss: 0.7977 - acc: 0.7200\n",
      "Epoch 9/10\n",
      "100/100 [==============================] - 0s 1ms/step - loss: 0.4326 - acc: 0.8400\n",
      "Epoch 10/10\n",
      "100/100 [==============================] - 0s 1ms/step - loss: 0.7306 - acc: 0.7900\n",
      "Test loss: 0.75416570687294\n",
      "Test accuracy: 0.7375\n"
     ]
    }
   ],
   "source": [
    "model = init_model()\n",
    "x_train, y_train, x_test, y_test = load_smnist(n=10, one_hot_enc=True, flatten=False, normalized=True)\n",
    "x_train = x_train.reshape(-1, 28, 28, 1)\n",
    "x_test = x_test.reshape(-1, 28, 28, 1)\n",
    "print(x_train.shape, y_train.shape)\n",
    "print(x_test.shape, y_test.shape)\n",
    "\n",
    "model.compile(loss=keras.losses.categorical_crossentropy,\n",
    "              optimizer=keras.optimizers.Adadelta(),\n",
    "              metrics=['accuracy'])\n",
    "model.fit(x_train, y_train,\n",
    "          epochs=epochs,\n",
    "          verbose=1)\n",
    "score = model.evaluate(x_test, y_test, verbose=0)\n",
    "print('Test loss:', score[0])\n",
    "print('Test accuracy:', score[1])"
   ]
  },
  {
   "cell_type": "code",
   "execution_count": 7,
   "metadata": {},
   "outputs": [
    {
     "name": "stdout",
     "output_type": "stream",
     "text": [
      "auto download is active, attempting download\n",
      "mnist data directory already exists, download aborted\n",
      "auto download is active, attempting download\n",
      "mnist data directory already exists, download aborted\n",
      "(150, 28, 28, 1) (150, 10)\n",
      "(10000, 28, 28, 1) (10000, 10)\n",
      "Epoch 1/10\n",
      "150/150 [==============================] - 0s 3ms/step - loss: 2.2659 - acc: 0.1533\n",
      "Epoch 2/10\n",
      "150/150 [==============================] - 0s 1ms/step - loss: 1.9060 - acc: 0.3800\n",
      "Epoch 3/10\n",
      "150/150 [==============================] - 0s 1ms/step - loss: 1.5362 - acc: 0.4600\n",
      "Epoch 4/10\n",
      "150/150 [==============================] - 0s 1ms/step - loss: 1.1180 - acc: 0.5933\n",
      "Epoch 5/10\n",
      "150/150 [==============================] - 0s 1ms/step - loss: 0.8583 - acc: 0.6933\n",
      "Epoch 6/10\n",
      "150/150 [==============================] - 0s 1ms/step - loss: 0.7127 - acc: 0.7867\n",
      "Epoch 7/10\n",
      "150/150 [==============================] - 0s 1ms/step - loss: 0.4907 - acc: 0.8333\n",
      "Epoch 8/10\n",
      "150/150 [==============================] - 0s 1ms/step - loss: 0.4116 - acc: 0.8733\n",
      "Epoch 9/10\n",
      "150/150 [==============================] - 0s 1ms/step - loss: 0.3740 - acc: 0.8867\n",
      "Epoch 10/10\n",
      "150/150 [==============================] - 0s 1ms/step - loss: 0.2051 - acc: 0.9467\n",
      "Test loss: 0.5134498191416264\n",
      "Test accuracy: 0.8459\n"
     ]
    }
   ],
   "source": [
    "model = init_model()\n",
    "x_train, y_train, x_test, y_test = load_smnist(n=15, one_hot_enc=True, flatten=False, normalized=True)\n",
    "x_train = x_train.reshape(-1, 28, 28, 1)\n",
    "x_test = x_test.reshape(-1, 28, 28, 1)\n",
    "print(x_train.shape, y_train.shape)\n",
    "print(x_test.shape, y_test.shape)\n",
    "\n",
    "model.compile(loss=keras.losses.categorical_crossentropy,\n",
    "              optimizer=keras.optimizers.Adadelta(),\n",
    "              metrics=['accuracy'])\n",
    "model.fit(x_train, y_train,\n",
    "          epochs=epochs,\n",
    "          verbose=1)\n",
    "score = model.evaluate(x_test, y_test, verbose=0)\n",
    "print('Test loss:', score[0])\n",
    "print('Test accuracy:', score[1])"
   ]
  },
  {
   "cell_type": "code",
   "execution_count": 8,
   "metadata": {},
   "outputs": [
    {
     "name": "stdout",
     "output_type": "stream",
     "text": [
      "auto download is active, attempting download\n",
      "mnist data directory already exists, download aborted\n",
      "auto download is active, attempting download\n",
      "mnist data directory already exists, download aborted\n",
      "(200, 28, 28, 1) (200, 10)\n",
      "(10000, 28, 28, 1) (10000, 10)\n",
      "Epoch 1/10\n",
      "200/200 [==============================] - 1s 3ms/step - loss: 2.1957 - acc: 0.1950\n",
      "Epoch 2/10\n",
      "200/200 [==============================] - 0s 1ms/step - loss: 1.7076 - acc: 0.4150\n",
      "Epoch 3/10\n",
      "200/200 [==============================] - 0s 1ms/step - loss: 1.3243 - acc: 0.6050\n",
      "Epoch 4/10\n",
      "200/200 [==============================] - 0s 1ms/step - loss: 0.9046 - acc: 0.7400\n",
      "Epoch 5/10\n",
      "200/200 [==============================] - 0s 1ms/step - loss: 0.6279 - acc: 0.8050\n",
      "Epoch 6/10\n",
      "200/200 [==============================] - 0s 1ms/step - loss: 0.5272 - acc: 0.8350\n",
      "Epoch 7/10\n",
      "200/200 [==============================] - 0s 1ms/step - loss: 0.3915 - acc: 0.8950\n",
      "Epoch 8/10\n",
      "200/200 [==============================] - 0s 1ms/step - loss: 0.3914 - acc: 0.8950\n",
      "Epoch 9/10\n",
      "200/200 [==============================] - 0s 1ms/step - loss: 0.2107 - acc: 0.9400\n",
      "Epoch 10/10\n",
      "200/200 [==============================] - 0s 1ms/step - loss: 0.1576 - acc: 0.9250\n",
      "Test loss: 0.4467790586516261\n",
      "Test accuracy: 0.8672\n"
     ]
    }
   ],
   "source": [
    "model = init_model()\n",
    "x_train, y_train, x_test, y_test = load_smnist(n=20, one_hot_enc=True, flatten=False, normalized=True)\n",
    "x_train = x_train.reshape(-1, 28, 28, 1)\n",
    "x_test = x_test.reshape(-1, 28, 28, 1)\n",
    "print(x_train.shape, y_train.shape)\n",
    "print(x_test.shape, y_test.shape)\n",
    "\n",
    "model.compile(loss=keras.losses.categorical_crossentropy,\n",
    "              optimizer=keras.optimizers.Adadelta(),\n",
    "              metrics=['accuracy'])\n",
    "model.fit(x_train, y_train,\n",
    "          epochs=epochs,\n",
    "          verbose=1)\n",
    "score = model.evaluate(x_test, y_test, verbose=0)\n",
    "print('Test loss:', score[0])\n",
    "print('Test accuracy:', score[1])"
   ]
  },
  {
   "cell_type": "code",
   "execution_count": 9,
   "metadata": {},
   "outputs": [
    {
     "name": "stdout",
     "output_type": "stream",
     "text": [
      "auto download is active, attempting download\n",
      "mnist data directory already exists, download aborted\n",
      "auto download is active, attempting download\n",
      "mnist data directory already exists, download aborted\n",
      "(250, 28, 28, 1) (250, 10)\n",
      "(10000, 28, 28, 1) (10000, 10)\n",
      "Epoch 1/10\n",
      "250/250 [==============================] - 1s 2ms/step - loss: 2.1470 - acc: 0.2240\n",
      "Epoch 2/10\n",
      "250/250 [==============================] - 0s 925us/step - loss: 1.8287 - acc: 0.3560\n",
      "Epoch 3/10\n",
      "250/250 [==============================] - 0s 932us/step - loss: 1.3213 - acc: 0.5840\n",
      "Epoch 4/10\n",
      "250/250 [==============================] - 0s 908us/step - loss: 1.1982 - acc: 0.6320\n",
      "Epoch 5/10\n",
      "250/250 [==============================] - 0s 936us/step - loss: 0.8546 - acc: 0.7280\n",
      "Epoch 6/10\n",
      "250/250 [==============================] - 0s 911us/step - loss: 0.6715 - acc: 0.7840\n",
      "Epoch 7/10\n",
      "250/250 [==============================] - 0s 904us/step - loss: 0.6042 - acc: 0.7760\n",
      "Epoch 8/10\n",
      "250/250 [==============================] - 0s 917us/step - loss: 0.4931 - acc: 0.8280\n",
      "Epoch 9/10\n",
      "250/250 [==============================] - 0s 896us/step - loss: 0.3472 - acc: 0.8960\n",
      "Epoch 10/10\n",
      "250/250 [==============================] - 0s 1ms/step - loss: 0.3232 - acc: 0.8680\n",
      "Test loss: 0.437342216694355\n",
      "Test accuracy: 0.867\n"
     ]
    }
   ],
   "source": [
    "model = init_model()\n",
    "x_train, y_train, x_test, y_test = load_smnist(n=25, one_hot_enc=True, flatten=False, normalized=True)\n",
    "x_train = x_train.reshape(-1, 28, 28, 1)\n",
    "x_test = x_test.reshape(-1, 28, 28, 1)\n",
    "print(x_train.shape, y_train.shape)\n",
    "print(x_test.shape, y_test.shape)\n",
    "\n",
    "model.compile(loss=keras.losses.categorical_crossentropy,\n",
    "              optimizer=keras.optimizers.Adadelta(),\n",
    "              metrics=['accuracy'])\n",
    "model.fit(x_train, y_train,\n",
    "          batch_size=50,\n",
    "          epochs=epochs,\n",
    "          verbose=1)\n",
    "score = model.evaluate(x_test, y_test, verbose=0)\n",
    "print('Test loss:', score[0])\n",
    "print('Test accuracy:', score[1])"
   ]
  },
  {
   "cell_type": "code",
   "execution_count": 10,
   "metadata": {},
   "outputs": [
    {
     "name": "stdout",
     "output_type": "stream",
     "text": [
      "auto download is active, attempting download\n",
      "mnist data directory already exists, download aborted\n",
      "auto download is active, attempting download\n",
      "mnist data directory already exists, download aborted\n",
      "(500, 28, 28, 1) (500, 10)\n",
      "(10000, 28, 28, 1) (10000, 10)\n",
      "Epoch 1/10\n",
      "500/500 [==============================] - 1s 2ms/step - loss: 2.0424 - acc: 0.3000\n",
      "Epoch 2/10\n",
      "500/500 [==============================] - 0s 922us/step - loss: 1.3126 - acc: 0.5840\n",
      "Epoch 3/10\n",
      "500/500 [==============================] - 0s 904us/step - loss: 0.8031 - acc: 0.7500\n",
      "Epoch 4/10\n",
      "500/500 [==============================] - 0s 905us/step - loss: 0.6146 - acc: 0.8140\n",
      "Epoch 5/10\n",
      "500/500 [==============================] - 0s 910us/step - loss: 0.4677 - acc: 0.8500\n",
      "Epoch 6/10\n",
      "500/500 [==============================] - 0s 917us/step - loss: 0.3484 - acc: 0.8880\n",
      "Epoch 7/10\n",
      "500/500 [==============================] - 0s 974us/step - loss: 0.2579 - acc: 0.9320\n",
      "Epoch 8/10\n",
      "500/500 [==============================] - 0s 918us/step - loss: 0.2034 - acc: 0.9440\n",
      "Epoch 9/10\n",
      "500/500 [==============================] - 0s 924us/step - loss: 0.2223 - acc: 0.9180\n",
      "Epoch 10/10\n",
      "500/500 [==============================] - 0s 906us/step - loss: 0.1768 - acc: 0.9420\n",
      "Test loss: 0.31280538084954024\n",
      "Test accuracy: 0.9033\n"
     ]
    }
   ],
   "source": [
    "model = init_model()\n",
    "x_train, y_train, x_test, y_test = load_smnist(n=50, one_hot_enc=True, flatten=False, normalized=True)\n",
    "x_train = x_train.reshape(-1, 28, 28, 1)\n",
    "x_test = x_test.reshape(-1, 28, 28, 1)\n",
    "print(x_train.shape, y_train.shape)\n",
    "print(x_test.shape, y_test.shape)\n",
    "\n",
    "model.compile(loss=keras.losses.categorical_crossentropy,\n",
    "              optimizer=keras.optimizers.Adadelta(),\n",
    "              metrics=['accuracy'])\n",
    "model.fit(x_train, y_train,\n",
    "          batch_size=50,\n",
    "          epochs=epochs,\n",
    "          verbose=1)\n",
    "score = model.evaluate(x_test, y_test, verbose=0)\n",
    "print('Test loss:', score[0])\n",
    "print('Test accuracy:', score[1])"
   ]
  },
  {
   "cell_type": "code",
   "execution_count": null,
   "metadata": {},
   "outputs": [
    {
     "name": "stdout",
     "output_type": "stream",
     "text": [
      "auto download is active, attempting download\n",
      "mnist data directory already exists, download aborted\n",
      "(60000, 28, 28, 1) (60000, 10)\n",
      "(10000, 28, 28, 1) (10000, 10)\n",
      "Epoch 1/10\n",
      "37824/60000 [=================>............] - ETA: 20s - loss: 0.2742 - acc: 0.9165"
     ]
    }
   ],
   "source": [
    "model = init_model()\n",
    "x_train, y_train, x_test, y_test = Mnist().get_all_data(one_hot_enc=True, flatten=False, normalized=True)\n",
    "x_train = x_train.reshape(-1, 28, 28, 1)\n",
    "x_test = x_test.reshape(-1, 28, 28, 1)\n",
    "print(x_train.shape, y_train.shape)\n",
    "print(x_test.shape, y_test.shape)\n",
    "\n",
    "model.compile(loss=keras.losses.categorical_crossentropy,\n",
    "              optimizer=keras.optimizers.Adadelta(),\n",
    "              metrics=['accuracy'])\n",
    "model.fit(x_train, y_train,\n",
    "          batch_size=64,\n",
    "          epochs=epochs,\n",
    "          verbose=1)\n",
    "score = model.evaluate(x_test, y_test, verbose=0)\n",
    "print('Test loss:', score[0])\n",
    "print('Test accuracy:', score[1])"
   ]
  },
  {
   "cell_type": "code",
   "execution_count": null,
   "metadata": {},
   "outputs": [],
   "source": []
  }
 ],
 "metadata": {
  "kernelspec": {
   "display_name": "Python 3",
   "language": "python",
   "name": "python3"
  },
  "language_info": {
   "codemirror_mode": {
    "name": "ipython",
    "version": 3
   },
   "file_extension": ".py",
   "mimetype": "text/x-python",
   "name": "python",
   "nbconvert_exporter": "python",
   "pygments_lexer": "ipython3",
   "version": "3.6.6"
  },
  "toc": {
   "base_numbering": 1,
   "nav_menu": {},
   "number_sections": true,
   "sideBar": true,
   "skip_h1_title": false,
   "title_cell": "Table of Contents",
   "title_sidebar": "Contents",
   "toc_cell": false,
   "toc_position": {},
   "toc_section_display": true,
   "toc_window_display": false
  }
 },
 "nbformat": 4,
 "nbformat_minor": 2
}
